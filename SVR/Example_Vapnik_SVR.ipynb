{
 "cells": [
  {
   "cell_type": "code",
   "execution_count": 13,
   "id": "12f8a3bb",
   "metadata": {},
   "outputs": [],
   "source": [
    "import pandas as pd\n",
    "import numpy as np\n",
    "from sklearn import metrics\n",
    "from sklearn.svm import SVR\n",
    "import cvxopt\n",
    "import cvxpy"
   ]
  },
  {
   "cell_type": "markdown",
   "id": "6a3eca15",
   "metadata": {},
   "source": [
    "## Import Boston Housing dataset"
   ]
  },
  {
   "cell_type": "code",
   "execution_count": 2,
   "id": "778992b9",
   "metadata": {},
   "outputs": [],
   "source": [
    "from sklearn.datasets import load_boston\n",
    "boston = load_boston()"
   ]
  },
  {
   "cell_type": "code",
   "execution_count": 3,
   "id": "0b712b6b",
   "metadata": {},
   "outputs": [],
   "source": [
    "# Initializing the dataframe\n",
    "data = pd.DataFrame(boston.data)\n",
    "\n",
    "data.columns = boston.feature_names\n",
    "\n",
    "data['PRICE'] = boston.target "
   ]
  },
  {
   "cell_type": "code",
   "execution_count": 4,
   "id": "2c07f4eb",
   "metadata": {},
   "outputs": [],
   "source": [
    "# Spliting target variable and independent variables\n",
    "X = data.drop(['PRICE'], axis = 1)\n",
    "y = data['PRICE']"
   ]
  },
  {
   "cell_type": "code",
   "execution_count": 5,
   "id": "9fdc3e4b",
   "metadata": {},
   "outputs": [],
   "source": [
    "# Splitting to training and testing data\n",
    "from sklearn.model_selection import train_test_split\n",
    "X_train, X_test, y_train, y_test = train_test_split(X,y, test_size = 0.3, random_state = 4)"
   ]
  },
  {
   "cell_type": "code",
   "execution_count": 6,
   "id": "b50f292d",
   "metadata": {},
   "outputs": [],
   "source": [
    "# Creating scaled set to be used in model to improve our results\n",
    "from sklearn.preprocessing import StandardScaler\n",
    "sc = StandardScaler()\n",
    "X_train = sc.fit_transform(X_train)\n",
    "X_test = sc.transform(X_test)"
   ]
  },
  {
   "cell_type": "markdown",
   "id": "c405423f",
   "metadata": {},
   "source": [
    "## SVR  cvxopt Library"
   ]
  },
  {
   "cell_type": "code",
   "execution_count": 7,
   "id": "be68b9b1",
   "metadata": {},
   "outputs": [],
   "source": [
    "# Import SVR\n",
    "%run SVR_Library.ipynb "
   ]
  },
  {
   "cell_type": "code",
   "execution_count": 10,
   "id": "3d0438e6",
   "metadata": {},
   "outputs": [],
   "source": [
    "# Create a SVR random initial parameters\n",
    "model = SVR_(\n",
    "    kernel = \"rbf\", \n",
    "    C = 74.888336 , \n",
    "    epsilon = 0.156926, \n",
    "    gamma = 0.060984, \n",
    "    error = 0.1\n",
    ")\n",
    "# Train the model using the training sets \n",
    "model.fit(X_train,y_train);"
   ]
  },
  {
   "cell_type": "code",
   "execution_count": 11,
   "id": "1dec45a4",
   "metadata": {},
   "outputs": [],
   "source": [
    "# Model prediction on train data\n",
    "y_pred = model.predict(X_train)\n",
    "# Predicting Test data with the model\n",
    "y_test_pred = model.predict(X_test)"
   ]
  },
  {
   "cell_type": "code",
   "execution_count": 12,
   "id": "e5a8773a",
   "metadata": {},
   "outputs": [
    {
     "name": "stdout",
     "output_type": "stream",
     "text": [
      "SVR clasico\n",
      "R^2: 0.8907163806431609\n",
      "Adjusted R^2: 0.8804215469356327\n",
      "MAE: 2.073858042875196\n",
      "MSE: 11.41140343246397\n",
      "RMSE: 3.3780768837408024\n",
      "MAPE 10.537101216205471\n"
     ]
    }
   ],
   "source": [
    "# Model Evaluation\n",
    "acc_svm = metrics.r2_score(y_test, y_test_pred)\n",
    "print('SVR clasico')\n",
    "print('R^2:', acc_svm)\n",
    "print('Adjusted R^2:',1 - (1-metrics.r2_score(y_test, y_test_pred))*(len(y_test)-1)/(len(y_test)-X_test.shape[1]-1))\n",
    "print('MAE:',metrics.mean_absolute_error(y_test, y_test_pred))\n",
    "print('MSE:',metrics.mean_squared_error(y_test, y_test_pred))\n",
    "print('RMSE:',np.sqrt(metrics.mean_squared_error(y_test, y_test_pred)))\n",
    "print('MAPE',np.mean(np.abs(( y_test - y_test_pred)/y_test))*100)"
   ]
  },
  {
   "cell_type": "markdown",
   "id": "78a5569d",
   "metadata": {},
   "source": [
    "## SVR cvxpy library"
   ]
  },
  {
   "cell_type": "code",
   "execution_count": 14,
   "id": "de72ea3e",
   "metadata": {},
   "outputs": [],
   "source": [
    "# Import SVR library\n",
    "%run SVR_Library.ipynb"
   ]
  },
  {
   "cell_type": "code",
   "execution_count": 21,
   "id": "7c5d620b",
   "metadata": {
    "scrolled": false
   },
   "outputs": [],
   "source": [
    "# Create a SVR random initial parameters\n",
    "model = SVR_cvxpy(\n",
    "    kernel = \"rbf\", \n",
    "    C = 74.888336 , \n",
    "    epsilon = 0.156926, \n",
    "    gamma = 0.260984, \n",
    "    error = 1e-4\n",
    ")\n",
    "# Train the model using the training sets \n",
    "model.fit(X_train,y_train);"
   ]
  },
  {
   "cell_type": "code",
   "execution_count": 22,
   "id": "3688123b",
   "metadata": {},
   "outputs": [],
   "source": [
    "# Model prediction on train data\n",
    "y_pred = model.predict(X_train)\n",
    "# Predicting Test data with the model\n",
    "y_test_pred = model.predict(X_test)"
   ]
  },
  {
   "cell_type": "code",
   "execution_count": 23,
   "id": "89649832",
   "metadata": {},
   "outputs": [
    {
     "name": "stdout",
     "output_type": "stream",
     "text": [
      "SVR clasico\n",
      "R^2: 0.8570874377503674\n",
      "Adjusted R^2: 0.8436246601471412\n",
      "MAE: 2.5404798514535947\n",
      "MSE: 14.922940080091866\n",
      "RMSE: 3.863022143360282\n",
      "MAPE 13.969519291490723\n"
     ]
    }
   ],
   "source": [
    "# Model Evaluation\n",
    "acc_svm = metrics.r2_score(y_test, y_test_pred)\n",
    "print('SVR clasico')\n",
    "print('R^2:', acc_svm)\n",
    "print('Adjusted R^2:',1 - (1-metrics.r2_score(y_test, y_test_pred))*(len(y_test)-1)/(len(y_test)-X_test.shape[1]-1))\n",
    "print('MAE:',metrics.mean_absolute_error(y_test, y_test_pred))\n",
    "print('MSE:',metrics.mean_squared_error(y_test, y_test_pred))\n",
    "print('RMSE:',np.sqrt(metrics.mean_squared_error(y_test, y_test_pred)))\n",
    "print('MAPE',np.mean(np.abs(( y_test - y_test_pred)/y_test))*100)"
   ]
  },
  {
   "cell_type": "markdown",
   "id": "de6d27cb",
   "metadata": {},
   "source": [
    "## SVR Scikit-Learn"
   ]
  },
  {
   "cell_type": "code",
   "execution_count": 24,
   "id": "b5a58026",
   "metadata": {},
   "outputs": [],
   "source": [
    "# Create a SVR\n",
    "model1 = SVR(\n",
    "    kernel = \"rbf\", \n",
    "    C = 74.888336 , \n",
    "    epsilon = 0.156926, \n",
    "    gamma = 0.060984\n",
    ")\n",
    "# Train the model using the training sets \n",
    "model1.fit(X_train,y_train);"
   ]
  },
  {
   "cell_type": "code",
   "execution_count": 25,
   "id": "9af3a9b5",
   "metadata": {},
   "outputs": [],
   "source": [
    "# Model prediction on train data\n",
    "y_pred = model1.predict(X_train)\n",
    "# Predicting Test data with the model\n",
    "y_test_pred = model1.predict(X_test)"
   ]
  },
  {
   "cell_type": "code",
   "execution_count": 26,
   "id": "a0096dc7",
   "metadata": {},
   "outputs": [
    {
     "name": "stdout",
     "output_type": "stream",
     "text": [
      "SVR clasico scklearn\n",
      "R^2: 0.893636530332261\n",
      "Adjusted R^2: 0.8836167831896479\n",
      "MAE: 2.0167619651279827\n",
      "MSE: 11.106481190854305\n",
      "RMSE: 3.33263877293269\n",
      "MAPE 10.073354025337723\n"
     ]
    }
   ],
   "source": [
    "# Model Evaluation\n",
    "acc_svm = metrics.r2_score(y_test, y_test_pred)\n",
    "print('SVR clasico scklearn')\n",
    "print('R^2:', acc_svm)\n",
    "print('Adjusted R^2:',1 - (1-metrics.r2_score(y_test, y_test_pred))*(len(y_test)-1)/(len(y_test)-X_test.shape[1]-1))\n",
    "print('MAE:',metrics.mean_absolute_error(y_test, y_test_pred))\n",
    "print('MSE:',metrics.mean_squared_error(y_test, y_test_pred))\n",
    "print('RMSE:',np.sqrt(metrics.mean_squared_error(y_test, y_test_pred)))\n",
    "print('MAPE',np.mean(np.abs(( y_test - y_test_pred)/y_test))*100)"
   ]
  }
 ],
 "metadata": {
  "kernelspec": {
   "display_name": "Python 3 (ipykernel)",
   "language": "python",
   "name": "python3"
  },
  "language_info": {
   "codemirror_mode": {
    "name": "ipython",
    "version": 3
   },
   "file_extension": ".py",
   "mimetype": "text/x-python",
   "name": "python",
   "nbconvert_exporter": "python",
   "pygments_lexer": "ipython3",
   "version": "3.9.7"
  }
 },
 "nbformat": 4,
 "nbformat_minor": 5
}
