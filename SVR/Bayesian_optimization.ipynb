{
 "cells": [
  {
   "cell_type": "markdown",
   "id": "3fa7d951",
   "metadata": {},
   "source": [
    "## Libraries"
   ]
  },
  {
   "cell_type": "code",
   "execution_count": 1,
   "id": "92c7a115",
   "metadata": {},
   "outputs": [],
   "source": [
    "import matplotlib.pyplot as plt\n",
    "import numpy as np\n",
    "from sklearn.preprocessing import MaxAbsScaler\n",
    "from sklearn.model_selection import train_test_split\n",
    "from sklearn.utils import check_random_state\n",
    "from sklearn.datasets import load_boston\n",
    "import pandas as pd\n",
    "from pathlib import Path\n",
    "import cvxpy"
   ]
  },
  {
   "cell_type": "code",
   "execution_count": 2,
   "id": "1ce6fe36",
   "metadata": {},
   "outputs": [],
   "source": [
    "from bayes_opt import BayesianOptimization\n",
    "from bayes_opt import SequentialDomainReductionTransformer\n",
    "from bayes_opt import UtilityFunction\n",
    "from bayes_opt.logger import JSONLogger\n",
    "from bayes_opt.event import Events"
   ]
  },
  {
   "cell_type": "code",
   "execution_count": 3,
   "id": "8547f2a3",
   "metadata": {},
   "outputs": [],
   "source": [
    "%run SVR_Library.ipynb "
   ]
  },
  {
   "cell_type": "markdown",
   "id": "417a0820",
   "metadata": {},
   "source": [
    "## Load data"
   ]
  },
  {
   "cell_type": "code",
   "execution_count": 4,
   "id": "30285108",
   "metadata": {},
   "outputs": [],
   "source": [
    "rng = check_random_state(0)\n",
    "boston = load_boston()\n",
    "perm = rng.permutation(boston.target.size)\n",
    "boston.data = boston.data[perm]\n",
    "boston.target = boston.target[perm]\n",
    "# \n",
    "Y = boston.target\n",
    "X = boston.data"
   ]
  },
  {
   "cell_type": "code",
   "execution_count": 5,
   "id": "c68e4d42",
   "metadata": {},
   "outputs": [],
   "source": [
    "#split\n",
    "x_train, x_test, y_train, y_test = train_test_split(X, Y, test_size=0.2, random_state = 5)\n",
    "\n",
    "#normalize\n",
    "scaler = MaxAbsScaler().fit(x_train)\n",
    "X_train = scaler.transform(x_train); X_test = scaler.transform(x_test)\n",
    "\n",
    "scaler1 = MaxAbsScaler().fit(y_train.reshape(-1, 1))\n",
    "Y_train = scaler1.transform(y_train.reshape(-1, 1)).reshape(-1)\n",
    "Y_test = scaler1.transform(y_test.reshape(-1, 1)).reshape(-1)"
   ]
  },
  {
   "cell_type": "markdown",
   "id": "a6e9e903",
   "metadata": {},
   "source": [
    "## Optimization Function"
   ]
  },
  {
   "cell_type": "code",
   "execution_count": 6,
   "id": "830c460a",
   "metadata": {},
   "outputs": [],
   "source": [
    "def opt_bas(C, gamma):\n",
    "    \n",
    "    # parameters\n",
    "    hyperparameters = {\n",
    "        'kernel' : \"rbf\",\n",
    "        'C' : C, \n",
    "        'gamma' : gamma,\n",
    "    }\n",
    "    \n",
    "    # fit and predict\n",
    "    model = SVR_cvxpy(**hyperparameters).fit(X_train, Y_train)\n",
    "\n",
    "    y_pred = model.predict(X_test)\n",
    "    \n",
    "    # rescale\n",
    "#     y_pred = scaler1.inverse_transform(predict.reshape(-1, 1)).reshape(-1)\n",
    "    \n",
    "    # get score\n",
    "    mape = np.mean(np.abs((Y_test - y_pred)/Y_test))*100\n",
    "    \n",
    "    return -mape"
   ]
  },
  {
   "cell_type": "markdown",
   "id": "5e625e31",
   "metadata": {},
   "source": [
    "## Run Optimization"
   ]
  },
  {
   "cell_type": "code",
   "execution_count": 7,
   "id": "815e084a",
   "metadata": {},
   "outputs": [],
   "source": [
    "class newJSONLogger(JSONLogger):\n",
    "\n",
    "      def __init__(self, path):\n",
    "            self._path=None\n",
    "            super(JSONLogger, self).__init__()\n",
    "            self._path = path if path[-5:] == \".json\" else path + \".json\""
   ]
  },
  {
   "cell_type": "code",
   "execution_count": 8,
   "id": "5a4f94dc",
   "metadata": {},
   "outputs": [],
   "source": [
    "# Bounded region of parameter space\n",
    "pbounds = {'C': (1, 10), 'gamma': (1, 10)}\n",
    "\n",
    "# Domain reduction function\n",
    "# bounds_transformer = SequentialDomainReductionTransformer()\n",
    "\n",
    "# Bayes optimizer instantiation\n",
    "optimizer = BayesianOptimization(f=opt_bas, \n",
    "                                 pbounds=pbounds, \n",
    "                                 random_state=1, verbose=2, \n",
    "#                                  bounds_transformer=bounds_transformer\n",
    "                                )\n",
    "\n",
    "# keep data\n",
    "log_path = Path().resolve() / \"Logs\" / \"test1.json\"\n",
    "logger = newJSONLogger(path = str(log_path))\n",
    "optimizer.subscribe(Events.OPTIMIZATION_STEP, logger)"
   ]
  },
  {
   "cell_type": "code",
   "execution_count": null,
   "id": "a61564d5",
   "metadata": {},
   "outputs": [],
   "source": [
    "optimizer.maximize(init_points=2, n_iter=400)"
   ]
  }
 ],
 "metadata": {
  "kernelspec": {
   "display_name": "Python 3 (ipykernel)",
   "language": "python",
   "name": "python3"
  },
  "language_info": {
   "codemirror_mode": {
    "name": "ipython",
    "version": 3
   },
   "file_extension": ".py",
   "mimetype": "text/x-python",
   "name": "python",
   "nbconvert_exporter": "python",
   "pygments_lexer": "ipython3",
   "version": "3.9.7"
  }
 },
 "nbformat": 4,
 "nbformat_minor": 5
}
